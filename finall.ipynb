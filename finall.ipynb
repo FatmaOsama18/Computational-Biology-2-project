{
 "cells": [
  {
   "cell_type": "code",
   "execution_count": 171,
   "id": "2b34b77d",
   "metadata": {},
   "outputs": [],
   "source": [
    "import cobra"
   ]
  },
  {
   "cell_type": "code",
   "execution_count": null,
   "id": "d0798d5d",
   "metadata": {},
   "outputs": [],
   "source": [
    "from cobra import Model,Reaction,Metabolite"
   ]
  },
  {
   "cell_type": "code",
   "execution_count": 2,
   "id": "841b723b",
   "metadata": {},
   "outputs": [],
   "source": [
    "model=Model(\"e_coli\")"
   ]
  },
  {
   "cell_type": "code",
   "execution_count": 3,
   "id": "6075914a",
   "metadata": {},
   "outputs": [],
   "source": [
    "GLUin=Reaction(\"GLUin\")\n",
    "GLUin.name=\"Glucose_import\"\n",
    "GLUin.lower_bound=1\n",
    "GLUin.upper_bound=1"
   ]
  },
  {
   "cell_type": "code",
   "execution_count": 4,
   "id": "3e549cac",
   "metadata": {},
   "outputs": [],
   "source": [
    "Gluc=Metabolite(\n",
    "'Gluc',\n",
    "name= \"Glucose\",\n",
    "formula=\"C6H12O6\",\n",
    "compartment='c')"
   ]
  },
  {
   "cell_type": "code",
   "execution_count": 5,
   "id": "18d9e635",
   "metadata": {},
   "outputs": [],
   "source": [
    "GLUin.add_metabolites({Gluc:1})"
   ]
  },
  {
   "cell_type": "code",
   "execution_count": 6,
   "id": "05a779af",
   "metadata": {},
   "outputs": [],
   "source": [
    "AMP_E=Reaction(\"AMP_E\")\n",
    "AMP_E.name=\"AMP_export\"\n",
    "AMP_E.lower_bound=0\n",
    "AMP_E.upper_bound=1000"
   ]
  },
  {
   "cell_type": "code",
   "execution_count": 7,
   "id": "23057918",
   "metadata": {},
   "outputs": [],
   "source": [
    "AMP=Metabolite(\"Adenosine_mono_phosphate\",compartment=\"c\")"
   ]
  },
  {
   "cell_type": "code",
   "execution_count": 8,
   "id": "9d1447b5",
   "metadata": {},
   "outputs": [],
   "source": [
    "AMP_E.add_metabolites({AMP:-1})"
   ]
  },
  {
   "cell_type": "code",
   "execution_count": 9,
   "id": "cb9a5152",
   "metadata": {},
   "outputs": [],
   "source": [
    "\n",
    "HK=Reaction(\"HK\")\n",
    "HK.name=\"Hexokinase\"\n",
    "HK.lower_bound=0\n",
    "HK.upper_bound=1000"
   ]
  },
  {
   "cell_type": "code",
   "execution_count": 10,
   "id": "00732799",
   "metadata": {},
   "outputs": [],
   "source": [
    "\n",
    "ATP=Metabolite(\"Adenosine_tri_phosphate\",compartment=\"c\")\n",
    "G6P=Metabolite(\"Glucose_6_phosphate\",compartment=\"c\")\n",
    "ADP=Metabolite(\"Adenosine_di_phosphate\",compartment=\"c\")\n",
    "H=Metabolite(\"Proton\",compartment=\"c\")"
   ]
  },
  {
   "cell_type": "code",
   "execution_count": 11,
   "id": "558f0363",
   "metadata": {},
   "outputs": [],
   "source": [
    "HK.add_metabolites({Gluc:-1,G6P:1,ATP:-1,ADP:1,H:1})"
   ]
  },
  {
   "cell_type": "code",
   "execution_count": 12,
   "id": "df6fd446",
   "metadata": {},
   "outputs": [],
   "source": [
    "\n",
    "PGI=Reaction(\"PGI\")\n",
    "PGI.name=\"Glucose_6-phosphate_isomerase\"\n",
    "PGI.lower_bound=-1000\n",
    "PGI.upper_bound=1000"
   ]
  },
  {
   "cell_type": "code",
   "execution_count": 13,
   "id": "3b02d9f3",
   "metadata": {},
   "outputs": [],
   "source": [
    "F6P=Metabolite(\"Fructose_6_phosphate\",compartment=\"c\")"
   ]
  },
  {
   "cell_type": "code",
   "execution_count": 14,
   "id": "44bc8d23",
   "metadata": {},
   "outputs": [],
   "source": [
    "PGI.add_metabolites({G6P:-1,F6P:1})"
   ]
  },
  {
   "cell_type": "code",
   "execution_count": 15,
   "id": "1b9c5013",
   "metadata": {},
   "outputs": [],
   "source": [
    "\n",
    "PFK=Reaction(\"PFK\")\n",
    "PFK.name=\"Phosphofructokinase\"\n",
    "PFK.lower_bound=0\n",
    "PFK.upper_bound=1000"
   ]
  },
  {
   "cell_type": "code",
   "execution_count": 16,
   "id": "de93b1e4",
   "metadata": {},
   "outputs": [],
   "source": [
    "FDP=Metabolite(\"Fructose_1,6_diphosphate\",compartment=\"c\")"
   ]
  },
  {
   "cell_type": "code",
   "execution_count": 17,
   "id": "a03093e8",
   "metadata": {},
   "outputs": [],
   "source": [
    "PFK.add_metabolites({F6P:-1,ATP:-1,FDP:1,ADP:1,H:1})"
   ]
  },
  {
   "cell_type": "code",
   "execution_count": 18,
   "id": "ba2dbf95",
   "metadata": {},
   "outputs": [],
   "source": [
    "\n",
    "TPI=Reaction(\"TPI\")\n",
    "TPI.name=\"Triose-phosphate_isomerase\"\n",
    "TPI.lower_bound=-1000\n",
    "TPI.upper_bound=1000"
   ]
  },
  {
   "cell_type": "code",
   "execution_count": 19,
   "id": "de1c51a4",
   "metadata": {},
   "outputs": [],
   "source": [
    "GAP=Metabolite(\"Glyceraldehyde_3_phosphate\",compartment=\"c\")\n",
    "DHAP=Metabolite(\"Dihydroxyacetone_phosphate\",compartment=\"c\")"
   ]
  },
  {
   "cell_type": "code",
   "execution_count": 20,
   "id": "2795764a",
   "metadata": {},
   "outputs": [],
   "source": [
    "TPI.add_metabolites({DHAP:-1,GAP:1})"
   ]
  },
  {
   "cell_type": "code",
   "execution_count": 21,
   "id": "c3a19992",
   "metadata": {},
   "outputs": [],
   "source": [
    "\n",
    "ALD=Reaction(\"ALD\")\n",
    "ALD.name=\"Fructose_1,6-diphosphate_aldolase\"\n",
    "ALD.lower_bound=-1000\n",
    "ALD.upper_bound=1000"
   ]
  },
  {
   "cell_type": "code",
   "execution_count": 22,
   "id": "39e30764",
   "metadata": {},
   "outputs": [],
   "source": [
    "ALD.add_metabolites({FDP:-1,DHAP:1,GAP:1})"
   ]
  },
  {
   "cell_type": "code",
   "execution_count": 23,
   "id": "f06047d4",
   "metadata": {},
   "outputs": [],
   "source": [
    "\n",
    "GAPDH=Reaction(\"GAPDH\")\n",
    "GAPDH.name=\"Glyceraldehyde_3-phosphate_dehydrogenase\"\n",
    "GAPDH.lower_bound=-1000\n",
    "GAPDH.upper_bound=1000"
   ]
  },
  {
   "cell_type": "code",
   "execution_count": 24,
   "id": "94b963a5",
   "metadata": {},
   "outputs": [],
   "source": [
    "NAD=Metabolite(\"Nicotinamide_adenine_dinucleotide_oxidized\",compartment=\"c\")\n",
    "Pi=Metabolite(\"Inorganic_phosphate\",compartment=\"c\")\n",
    "DPG13=Metabolite(\"1,3-Diphosphoglycerate\",compartment=\"c\")\n",
    "NADH=Metabolite(\"Nicotinamide_adenine_dinucleotide_reduced\",compartment=\"c\")"
   ]
  },
  {
   "cell_type": "code",
   "execution_count": 25,
   "id": "db00fe7b",
   "metadata": {},
   "outputs": [],
   "source": [
    "GAPDH.add_metabolites({GAP:-1,NAD:-1,Pi:-1,DPG13:1,NADH:1,H:1})"
   ]
  },
  {
   "cell_type": "code",
   "execution_count": 26,
   "id": "b19597f9",
   "metadata": {},
   "outputs": [],
   "source": [
    "\n",
    "PGK=Reaction(\"PGK\")\n",
    "PGK.name=\"Phosphoglycerate_kinase\"\n",
    "PGK.lower_bound=-1000\n",
    "PGK.upper_bound=1000"
   ]
  },
  {
   "cell_type": "code",
   "execution_count": 27,
   "id": "320bb0de",
   "metadata": {},
   "outputs": [],
   "source": [
    "PG3=Metabolite(\"3_Phosphoglycerate\",compartment=\"c\")"
   ]
  },
  {
   "cell_type": "code",
   "execution_count": 28,
   "id": "209a51a6",
   "metadata": {},
   "outputs": [],
   "source": [
    "PGK.add_metabolites({DPG13:-1,ADP:-1,PG3:1,ATP:1})"
   ]
  },
  {
   "cell_type": "code",
   "execution_count": 29,
   "id": "475c5702",
   "metadata": {},
   "outputs": [],
   "source": [
    "\n",
    "PGLM=Reaction(\"PGLM\")\n",
    "PGLM.name=\"Phosphoglycerate_mutase\"\n",
    "PGLM.lower_bound=-1000\n",
    "PGLM.upper_bound=1000"
   ]
  },
  {
   "cell_type": "code",
   "execution_count": 30,
   "id": "f36b9c61",
   "metadata": {},
   "outputs": [],
   "source": [
    "PG2=Metabolite(\"2_Phosphoglycerate\",compartment=\"c\")"
   ]
  },
  {
   "cell_type": "code",
   "execution_count": 31,
   "id": "d21297ca",
   "metadata": {},
   "outputs": [],
   "source": [
    "PGLM.add_metabolites({PG3:-1,PG2:1})"
   ]
  },
  {
   "cell_type": "code",
   "execution_count": 32,
   "id": "387506e9",
   "metadata": {},
   "outputs": [],
   "source": [
    "\n",
    "ENO=Reaction(\"ENO\")\n",
    "ENO.name=\"Enolase\"\n",
    "ENO.lower_bound=-1000\n",
    "ENO.upper_bound=1000"
   ]
  },
  {
   "cell_type": "code",
   "execution_count": 33,
   "id": "f10a5d85",
   "metadata": {},
   "outputs": [],
   "source": [
    "PEP=Metabolite(\"Phosphoenolpyruvate\",compartment=\"c\")\n",
    "H2O=Metabolite(\"Water\",compartment=\"c\")"
   ]
  },
  {
   "cell_type": "code",
   "execution_count": 34,
   "id": "07fda6be",
   "metadata": {},
   "outputs": [],
   "source": [
    "ENO.add_metabolites({PG2:-1,PEP:1,H2O:1})"
   ]
  },
  {
   "cell_type": "code",
   "execution_count": 35,
   "id": "cffeb20e",
   "metadata": {},
   "outputs": [],
   "source": [
    "\n",
    "PK=Reaction(\"PK\")\n",
    "PK.name=\"Pyruvate_kinase\"\n",
    "PK.lower_bound=0\n",
    "PK.upper_bound=1000"
   ]
  },
  {
   "cell_type": "code",
   "execution_count": 36,
   "id": "aae37c08",
   "metadata": {},
   "outputs": [],
   "source": [
    "PYR=Metabolite(\"Pyruvate\",compartment=\"c\")"
   ]
  },
  {
   "cell_type": "code",
   "execution_count": 37,
   "id": "1d7358b3",
   "metadata": {},
   "outputs": [],
   "source": [
    "PK.add_metabolites({PEP:-1,ADP:-1,H:-1,PYR:1,ATP:1})"
   ]
  },
  {
   "cell_type": "code",
   "execution_count": 38,
   "id": "a14ac1c2",
   "metadata": {},
   "outputs": [],
   "source": [
    "\n",
    "LDH=Reaction(\"LDH\")\n",
    "LDH.name=\"Lactate_dehydrogenase\"\n",
    "LDH.lower_bound=-1000\n",
    "LDH.upper_bound=1000"
   ]
  },
  {
   "cell_type": "code",
   "execution_count": 39,
   "id": "de4d2871",
   "metadata": {},
   "outputs": [],
   "source": [
    "LAC=Metabolite(\"Lactate\",compartment=\"c\")"
   ]
  },
  {
   "cell_type": "code",
   "execution_count": 40,
   "id": "b82cecb6",
   "metadata": {},
   "outputs": [],
   "source": [
    "LDH.add_metabolites({PYR:-1,NADH:-1,H:-1,LAC:1,NAD:1})"
   ]
  },
  {
   "cell_type": "code",
   "execution_count": 41,
   "id": "54fb7621",
   "metadata": {},
   "outputs": [],
   "source": [
    "\n",
    "APK=Reaction(\"APK\")\n",
    "APK.name=\"Adenylate_kinase\"\n",
    "APK.lower_bound=-1000\n",
    "APK.upper_bound=1000"
   ]
  },
  {
   "cell_type": "code",
   "execution_count": 42,
   "id": "73fe8e97",
   "metadata": {},
   "outputs": [],
   "source": [
    "APK.add_metabolites({ADP:-2,AMP:1,ATP:1})"
   ]
  },
  {
   "cell_type": "code",
   "execution_count": 43,
   "id": "5609be41",
   "metadata": {},
   "outputs": [],
   "source": [
    "\n",
    "PYR_E=Reaction(\"PYR_E\")\n",
    "PYR_E.name=\"Pyruvate_exchange\"\n",
    "PYR_E.lower_bound=-1000\n",
    "PYR_E.upper_bound=1000"
   ]
  },
  {
   "cell_type": "code",
   "execution_count": 44,
   "id": "1ee1384e",
   "metadata": {},
   "outputs": [],
   "source": [
    "PYR_E.add_metabolites({PYR:-1})"
   ]
  },
  {
   "cell_type": "code",
   "execution_count": 45,
   "id": "861dd531",
   "metadata": {},
   "outputs": [],
   "source": [
    "\n",
    "LAC_E=Reaction(\"LAC_E\")\n",
    "LAC_E.name=\"Lactate_exchange\"\n",
    "LAC_E.lower_bound=-1000\n",
    "LAC_E.upper_bound=1000"
   ]
  },
  {
   "cell_type": "code",
   "execution_count": 46,
   "id": "8fe2297b",
   "metadata": {},
   "outputs": [],
   "source": [
    "LAC_E.add_metabolites({LAC:-1})"
   ]
  },
  {
   "cell_type": "code",
   "execution_count": 47,
   "id": "95d01702",
   "metadata": {},
   "outputs": [],
   "source": [
    "\n",
    "ATP_H=Reaction(\"ATP_H\")\n",
    "ATP_H.name=\"ATP_hydrolysis\"\n",
    "ATP_H.lower_bound=0\n",
    "ATP_H.upper_bound=1000"
   ]
  },
  {
   "cell_type": "code",
   "execution_count": 48,
   "id": "6690e616",
   "metadata": {},
   "outputs": [],
   "source": [
    "ATP_H.add_metabolites({ATP:-1,H2O:-1,ADP:1,Pi:1,H:1})"
   ]
  },
  {
   "cell_type": "code",
   "execution_count": 49,
   "id": "6e1a57c6",
   "metadata": {},
   "outputs": [],
   "source": [
    "\n",
    "NADH_O=Reaction(\"NADH_O\")\n",
    "NADH_O.name=\"NADH_oxidation\"\n",
    "NADH_O.lower_bound=0\n",
    "NADH_O.upper_bound=1000"
   ]
  },
  {
   "cell_type": "code",
   "execution_count": 50,
   "id": "4f3af104",
   "metadata": {},
   "outputs": [],
   "source": [
    "NADH_O.add_metabolites({NADH:-1,NAD:1,H:1})"
   ]
  },
  {
   "cell_type": "code",
   "execution_count": 51,
   "id": "fcbd2ef3",
   "metadata": {},
   "outputs": [],
   "source": [
    "\n",
    "GLUin=Reaction(\"GLUin\")\n",
    "GLUin.name=\"Glucose_import\"\n",
    "GLUin.lower_bound=1\n",
    "GLUin.upper_bound=1"
   ]
  },
  {
   "cell_type": "code",
   "execution_count": 52,
   "id": "cbca1365",
   "metadata": {},
   "outputs": [],
   "source": [
    "GLUin.add_metabolites({Gluc:1})"
   ]
  },
  {
   "cell_type": "code",
   "execution_count": 53,
   "id": "cbeb7b9d",
   "metadata": {},
   "outputs": [],
   "source": [
    "\n",
    "AMPin=Reaction(\"AMPin\")\n",
    "AMPin.name=\"AMP_import\"\n",
    "AMPin.lower_bound=1\n",
    "AMPin.upper_bound=1"
   ]
  },
  {
   "cell_type": "code",
   "execution_count": 54,
   "id": "8a61171c",
   "metadata": {},
   "outputs": [],
   "source": [
    "AMPin.add_metabolites({AMP:1})"
   ]
  },
  {
   "cell_type": "code",
   "execution_count": 55,
   "id": "69b8500a",
   "metadata": {},
   "outputs": [],
   "source": [
    "\n",
    "H_E=Reaction(\"H_E\")\n",
    "H_E.name=\"Proton_exchange\"\n",
    "H_E.lower_bound=-1000\n",
    "H_E.upper_bound=1000"
   ]
  },
  {
   "cell_type": "code",
   "execution_count": 56,
   "id": "bdca6132",
   "metadata": {},
   "outputs": [],
   "source": [
    "H_E.add_metabolites({H:-1})"
   ]
  },
  {
   "cell_type": "code",
   "execution_count": 57,
   "id": "2a2a9f76",
   "metadata": {},
   "outputs": [],
   "source": [
    "\n",
    "H2O_E=Reaction(\"H2O_E\")\n",
    "H2O_E.name=\"Water_exchange\"\n",
    "H2O_E.lower_bound=-1000\n",
    "H2O_E.upper_bound=1000"
   ]
  },
  {
   "cell_type": "code",
   "execution_count": 58,
   "id": "e25b2c7c",
   "metadata": {},
   "outputs": [],
   "source": [
    "H2O_E.add_metabolites({H2O:-1})"
   ]
  },
  {
   "cell_type": "code",
   "execution_count": 59,
   "id": "e88ab32d",
   "metadata": {},
   "outputs": [],
   "source": [
    "#model.add_reactions({HK,PGI,PFK,TPI,ALD,GAPDH,PGK,PGLM,ENO,PK,LDH,AMP_E,APK,PYR_E,LAC_E,ATP_H,NADH_O,GLUin,AMPin,H_E,H2O_E})"
   ]
  },
  {
   "cell_type": "code",
   "execution_count": 60,
   "id": "af4630da",
   "metadata": {},
   "outputs": [],
   "source": [
    "#model.objective=\"PK\"\n",
    "#model.optimize()"
   ]
  },
  {
   "cell_type": "code",
   "execution_count": 61,
   "id": "5bcd6981",
   "metadata": {},
   "outputs": [],
   "source": [
    "\n",
    "G6PDH=Reaction(\"G6PDH\")\n",
    "G6PDH.name=\"G6P_dehydrogenase\"\n",
    "G6PDH.lower_bound=0\n",
    "G6PDH.upper_bound=1000"
   ]
  },
  {
   "cell_type": "code",
   "execution_count": 62,
   "id": "cd1b4d44",
   "metadata": {},
   "outputs": [],
   "source": [
    "NADP=Metabolite(\"Nicotinamide_adenine_dinucleotide_phosphate_oxidized\",compartment=\"c\")\n",
    "GL6P=Metabolite(\"6-Phosphogluconolactone\",compartment=\"c\")\n",
    "NADPH=Metabolite(\"Nicotinamide_adenine_dinucleotide_phosphate_reduced\",compartment=\"c\")\n"
   ]
  },
  {
   "cell_type": "code",
   "execution_count": 63,
   "id": "d5d0b1e1",
   "metadata": {},
   "outputs": [],
   "source": [
    "G6PDH.add_metabolites({G6P:-1,NADP:-1,GL6P:1,NADPH:1,H:1})"
   ]
  },
  {
   "cell_type": "code",
   "execution_count": 64,
   "id": "0c642a06",
   "metadata": {},
   "outputs": [],
   "source": [
    "\n",
    "PGLase=Reaction(\"PGLase\")\n",
    "PGLase.name=\"6-Phosphogluconolactonase\"\n",
    "PGLase.lower_bound=0\n",
    "PGLase.upper_bound=1000"
   ]
  },
  {
   "cell_type": "code",
   "execution_count": 65,
   "id": "bcbbd70d",
   "metadata": {},
   "outputs": [],
   "source": [
    "GO6P=Metabolite(\"6_Phosphoglyconate\",compartment=\"c\")"
   ]
  },
  {
   "cell_type": "code",
   "execution_count": 66,
   "id": "160eff3b",
   "metadata": {},
   "outputs": [],
   "source": [
    "PGLase.add_metabolites({GL6P:-1,H2O:-1,GO6P:1,H:1})"
   ]
  },
  {
   "cell_type": "code",
   "execution_count": 67,
   "id": "98cf707c",
   "metadata": {},
   "outputs": [],
   "source": [
    "\n",
    "GL6PDH=Reaction(\"GL6PDH\")\n",
    "GL6PDH.name=\"GO6P_dehydrogenase\"\n",
    "GL6PDH.lower_bound=0\n",
    "GL6PDH.upper_bound=1000"
   ]
  },
  {
   "cell_type": "code",
   "execution_count": 68,
   "id": "5b9386d2",
   "metadata": {},
   "outputs": [],
   "source": [
    "CO2=Metabolite(\"Carbon_dioxide\",compartment=\"c\")\n",
    "RU5P=Metabolite(\"Ribulose_5_phosphate\",compartment=\"c\")"
   ]
  },
  {
   "cell_type": "code",
   "execution_count": 69,
   "id": "57c478f2",
   "metadata": {},
   "outputs": [],
   "source": [
    "GL6PDH.add_metabolites({GO6P:-1,NADP:-1,RU5P:1,NADPH:1,CO2:1})"
   ]
  },
  {
   "cell_type": "code",
   "execution_count": 70,
   "id": "aeb1d18b",
   "metadata": {},
   "outputs": [],
   "source": [
    "\n",
    "R5PE=Reaction(\"R5PE\")\n",
    "R5PE.name=\"X5P_epimerase\"\n",
    "R5PE.lower_bound=-1000\n",
    "R5PE.upper_bound=1000"
   ]
  },
  {
   "cell_type": "code",
   "execution_count": 71,
   "id": "2f7aee9e",
   "metadata": {},
   "outputs": [],
   "source": [
    "X5P=Metabolite(\"Xylose_5_phosphate\",compartment=\"c\")"
   ]
  },
  {
   "cell_type": "code",
   "execution_count": 72,
   "id": "8371e6cc",
   "metadata": {},
   "outputs": [],
   "source": [
    "R5PE.add_metabolites({RU5P:-1,X5P:1})"
   ]
  },
  {
   "cell_type": "code",
   "execution_count": 73,
   "id": "2c3b48c0",
   "metadata": {},
   "outputs": [],
   "source": [
    "\n",
    "R5PI=Reaction(\"R5PI\")\n",
    "R5PI.name=\"R5P_isomerase\"\n",
    "R5PI.lower_bound=-1000\n",
    "R5PI.upper_bound=1000"
   ]
  },
  {
   "cell_type": "code",
   "execution_count": 74,
   "id": "66c72868",
   "metadata": {},
   "outputs": [],
   "source": [
    "R5P=Metabolite(\"Ribose_5_phosphate\",compartment=\"c\")"
   ]
  },
  {
   "cell_type": "code",
   "execution_count": 75,
   "id": "fb5aa9f7",
   "metadata": {},
   "outputs": [],
   "source": [
    "R5PI.add_metabolites({RU5P:-1,R5P:1})"
   ]
  },
  {
   "cell_type": "code",
   "execution_count": 76,
   "id": "d5e2a511",
   "metadata": {},
   "outputs": [],
   "source": [
    "\n",
    "TKI=Reaction(\"TKI\")\n",
    "TKI.name=\"Transketolase I\"\n",
    "TKI.lower_bound=-1000\n",
    "TKI.upper_bound=1000"
   ]
  },
  {
   "cell_type": "code",
   "execution_count": 77,
   "id": "da945c61",
   "metadata": {},
   "outputs": [],
   "source": [
    "S7P=Metabolite(\"Sedoheptulose_7_phosphate\",compartment=\"c\")"
   ]
  },
  {
   "cell_type": "code",
   "execution_count": 78,
   "id": "6b12d85f",
   "metadata": {},
   "outputs": [],
   "source": [
    "TKI.add_metabolites({X5P:-1,R5P:-1,S7P:1,GAP:1})"
   ]
  },
  {
   "cell_type": "code",
   "execution_count": 79,
   "id": "49aa8aa8",
   "metadata": {},
   "outputs": [],
   "source": [
    "\n",
    "TKII=Reaction(\"TKII\")\n",
    "TKII.name=\"Transketolase II\"\n",
    "TKII.lower_bound=-1000\n",
    "TKII.upper_bound=1000"
   ]
  },
  {
   "cell_type": "code",
   "execution_count": 80,
   "id": "ef8de69d",
   "metadata": {},
   "outputs": [],
   "source": [
    "E4P=Metabolite(\"Erythrose_4_phosphate\",compartment=\"c\")"
   ]
  },
  {
   "cell_type": "code",
   "execution_count": 81,
   "id": "088a81bb",
   "metadata": {},
   "outputs": [],
   "source": [
    "TKII.add_metabolites({X5P:-1,R5P:-1,F6P:1,GAP:1})"
   ]
  },
  {
   "cell_type": "code",
   "execution_count": 82,
   "id": "d46e4889",
   "metadata": {},
   "outputs": [],
   "source": [
    "\n",
    "TALA=Reaction(\"TALA\")\n",
    "TALA.name=\"Transaldolase\"\n",
    "TALA.lower_bound=-1000\n",
    "TALA.upper_bound=1000"
   ]
  },
  {
   "cell_type": "code",
   "execution_count": 83,
   "id": "e2542554",
   "metadata": {},
   "outputs": [],
   "source": [
    "TALA.add_metabolites({S7P:-1,GAP:-1,E4P:1,F6P:1})"
   ]
  },
  {
   "cell_type": "code",
   "execution_count": 84,
   "id": "1304ce64",
   "metadata": {},
   "outputs": [],
   "source": [
    "\n",
    "GSSGR=Reaction(\"GSSGR\")\n",
    "GSSGR.name=\"Glutathione_reductase\"\n",
    "GSSGR.lower_bound=-1000\n",
    "GSSGR.upper_bound=1000"
   ]
  },
  {
   "cell_type": "code",
   "execution_count": 85,
   "id": "855c749b",
   "metadata": {},
   "outputs": [],
   "source": [
    "GSSG=Metabolite(\"Glutathione_oxidized\",compartment=\"c\")\n",
    "GSH=Metabolite(\"Glutathione_reduced\",compartment=\"c\")"
   ]
  },
  {
   "cell_type": "code",
   "execution_count": 86,
   "id": "54dc355f",
   "metadata": {},
   "outputs": [],
   "source": [
    "GSSGR.add_metabolites({GSSG:-1,NADPH:-1,H:-1,GSH:2,NADP:1})"
   ]
  },
  {
   "cell_type": "code",
   "execution_count": 87,
   "id": "6d8474f9",
   "metadata": {},
   "outputs": [],
   "source": [
    "\n",
    "GSHR=Reaction(\"GSHR\")\n",
    "GSHR.name=\"Glutathione_oxidase\"\n",
    "GSHR.lower_bound=-1000\n",
    "GSHR.upper_bound=1000"
   ]
  },
  {
   "cell_type": "code",
   "execution_count": 88,
   "id": "e02b34cc",
   "metadata": {},
   "outputs": [],
   "source": [
    "GSHR.add_metabolites({GSH:-2,GSSG:1,H:2})"
   ]
  },
  {
   "cell_type": "code",
   "execution_count": 89,
   "id": "3c3f5615",
   "metadata": {},
   "outputs": [],
   "source": [
    "\n",
    "CO2exch=Reaction(\"CO2exch\")\n",
    "CO2exch.name=\"freely_exchanging CO2\"\n",
    "CO2exch.lower_bound=-1000\n",
    "CO2exch.upper_bound=1000"
   ]
  },
  {
   "cell_type": "code",
   "execution_count": 90,
   "id": "b0b8f061",
   "metadata": {},
   "outputs": [],
   "source": [
    "CO2 =Metabolite(\"Glutathione_oxidized\",compartment=\"c\")"
   ]
  },
  {
   "cell_type": "code",
   "execution_count": 91,
   "id": "c6856de9",
   "metadata": {},
   "outputs": [],
   "source": [
    "CO2exch.add_metabolites({CO2:-1})"
   ]
  },
  {
   "cell_type": "code",
   "execution_count": 92,
   "id": "86968307",
   "metadata": {},
   "outputs": [],
   "source": [
    "#model.add_reactions({G6PDH,PGLase,GL6PDH,R5PE,R5PI,TKI,TKII,TALA,GSSGR,GSHR,CO2exch})"
   ]
  },
  {
   "cell_type": "code",
   "execution_count": 93,
   "id": "2a23e5c0",
   "metadata": {},
   "outputs": [],
   "source": [
    "#model.objective=\"CO2exch\"\n",
    "#model.optimize()"
   ]
  },
  {
   "cell_type": "code",
   "execution_count": 94,
   "id": "17157b0c",
   "metadata": {},
   "outputs": [],
   "source": [
    "\n",
    "Pyruvate_dehydrogenase_complex=Reaction('Pyruvate_dehydrogenase_complex')\n",
    "Pyruvate_dehydrogenase_complex.name='Pyruvate dehydrogenase complex'\n",
    "Pyruvate_dehydrogenase_complex.lower_bound=-1000\n",
    "Pyruvate_dehydrogenase_complex.upper_bound=1000"
   ]
  },
  {
   "cell_type": "code",
   "execution_count": 95,
   "id": "95fe2207",
   "metadata": {},
   "outputs": [],
   "source": [
    "acetyl_CoA=Metabolite(\"acetyl_CoA\",compartment=\"c\")\n",
    "CoA=Metabolite(\"CoA\",compartment=\"c\")"
   ]
  },
  {
   "cell_type": "code",
   "execution_count": 96,
   "id": "d158e714",
   "metadata": {},
   "outputs": [],
   "source": [
    "Pyruvate_dehydrogenase_complex.add_metabolites({PYR:-1,NAD:-1,CoA:-1,acetyl_CoA:1,CO2:1,NADH:1})"
   ]
  },
  {
   "cell_type": "code",
   "execution_count": 97,
   "id": "ad4cccd6",
   "metadata": {},
   "outputs": [],
   "source": [
    "\n",
    "ACS=Reaction(\"ACS\")\n",
    "ACS.name=\"ATP_citrate_synthase\"\n",
    "ACS.lower_bound=-1000\n",
    "ACS.upper_bound=1000"
   ]
  },
  {
   "cell_type": "code",
   "execution_count": 98,
   "id": "e141d9c2",
   "metadata": {},
   "outputs": [],
   "source": [
    "\n",
    "oxaloacetate=Metabolite(\"oxaloacetate\",compartment=\"c\")\n",
    "citrate=Metabolite(\"citrate\",compartment=\"c\")"
   ]
  },
  {
   "cell_type": "code",
   "execution_count": 99,
   "id": "daacb890",
   "metadata": {},
   "outputs": [],
   "source": [
    "ACS.add_metabolites({acetyl_CoA:-1,oxaloacetate:-1,citrate:1,CoA:1})"
   ]
  },
  {
   "cell_type": "code",
   "execution_count": 100,
   "id": "879aeebe",
   "metadata": {},
   "outputs": [],
   "source": [
    "\n",
    "AH=Reaction(\"AH\")\n",
    "AH.name=\"Aconitate_hydratase\"\n",
    "AH.lower_bound=-1000\n",
    "AH.upper_bound=1000"
   ]
  },
  {
   "cell_type": "code",
   "execution_count": 101,
   "id": "25a69cc4",
   "metadata": {},
   "outputs": [],
   "source": [
    "isocitrate=Metabolite(\"isocitrate\",compartment=\"c\")"
   ]
  },
  {
   "cell_type": "code",
   "execution_count": 102,
   "id": "aa323a4f",
   "metadata": {},
   "outputs": [],
   "source": [
    "AH.add_metabolites({citrate:-1,isocitrate:1})"
   ]
  },
  {
   "cell_type": "code",
   "execution_count": 103,
   "id": "0e8001c1",
   "metadata": {},
   "outputs": [],
   "source": [
    "\n",
    "ISD=Reaction(\"ISD\")\n",
    "ISD.name=\"Isocitrate_dehydrogenase\"\n",
    "ISD.lower_bound=-1000\n",
    "ISD.upper_bound=1000"
   ]
  },
  {
   "cell_type": "code",
   "execution_count": 104,
   "id": "0c349261",
   "metadata": {},
   "outputs": [],
   "source": [
    "oxoglutarate2=Metabolite(\"oxoglutarate2\",compartment=\"c\")"
   ]
  },
  {
   "cell_type": "code",
   "execution_count": 105,
   "id": "3a385abf",
   "metadata": {},
   "outputs": [],
   "source": [
    "ISD.add_metabolites({isocitrate:-1,NAD:-1,oxoglutarate2:1,CO2:1,NADH:1})"
   ]
  },
  {
   "cell_type": "code",
   "execution_count": 106,
   "id": "c21fc0d9",
   "metadata": {},
   "outputs": [],
   "source": [
    "\n",
    "OS=Reaction(\"OS\")\n",
    "OS.name=\"2-oxoglutarate_synthase\"\n",
    "OS.lower_bound=-1000\n",
    "OS.upper_bound=1000"
   ]
  },
  {
   "cell_type": "code",
   "execution_count": 107,
   "id": "45a0abb9",
   "metadata": {},
   "outputs": [],
   "source": [
    "\n",
    "succinyl_CoA=Metabolite(\"succinyl_CoA\",compartment=\"c\")\n",
    "reduced_ferredoxin2=Metabolite(\"reduced_ferredoxin2\",compartment=\"c\")"
   ]
  },
  {
   "cell_type": "code",
   "execution_count": 108,
   "id": "115f6699",
   "metadata": {},
   "outputs": [],
   "source": [
    "OS.add_metabolites({oxoglutarate2:-1,CoA:-1,NAD:-1,CO2:1,H:1,NADH:1,succinyl_CoA:1})"
   ]
  },
  {
   "cell_type": "code",
   "execution_count": 109,
   "id": "c5aee7f5",
   "metadata": {},
   "outputs": [],
   "source": [
    "\n",
    "SCL=Reaction(\"SCL\")\n",
    "SCL.name=\"Succinate--CoA_ligase\"\n",
    "SCL.lower_bound=-1000\n",
    "SCL.upper_bound=1000"
   ]
  },
  {
   "cell_type": "code",
   "execution_count": 110,
   "id": "0b9ba63a",
   "metadata": {},
   "outputs": [],
   "source": [
    "succinate=Metabolite(\"succinate\",compartment=\"c\")"
   ]
  },
  {
   "cell_type": "code",
   "execution_count": 111,
   "id": "a4b60f3b",
   "metadata": {},
   "outputs": [],
   "source": [
    "SCL.add_metabolites({ATP:1,succinate:1,CoA:1,ADP:-1,Pi:-1,succinyl_CoA:-1})"
   ]
  },
  {
   "cell_type": "code",
   "execution_count": 112,
   "id": "ea26986a",
   "metadata": {},
   "outputs": [],
   "source": [
    "\n",
    "SUD=Reaction(\"SUD\")\n",
    "SUD.name=\"Succinate_dehydrogenase\"\n",
    "SUD.lower_bound=-1000\n",
    "SUD.upper_bound=1000"
   ]
  },
  {
   "cell_type": "code",
   "execution_count": 113,
   "id": "71026554",
   "metadata": {},
   "outputs": [],
   "source": [
    "quinone=Metabolite(\"quinone\",compartment=\"c\")\n",
    "fumarate=Metabolite(\"fumarate\",compartment=\"c\")\n",
    "quinol=Metabolite(\"quinol\",compartment=\"c\")"
   ]
  },
  {
   "cell_type": "code",
   "execution_count": 114,
   "id": "c97d19c2",
   "metadata": {},
   "outputs": [],
   "source": [
    "SUD.add_metabolites({succinate:-1,quinone:-1,fumarate:1,quinol:1})"
   ]
  },
  {
   "cell_type": "code",
   "execution_count": 115,
   "id": "7858259f",
   "metadata": {},
   "outputs": [],
   "source": [
    "\n",
    "FH=Reaction(\"FH\")\n",
    "FH.name=\"Fumarate_hydratase\"\n",
    "FH.lower_bound=-1000\n",
    "FH.upper_bound=1000"
   ]
  },
  {
   "cell_type": "code",
   "execution_count": 116,
   "id": "ec47c79d",
   "metadata": {},
   "outputs": [],
   "source": [
    "S_malate=Metabolite(\"S_malate\",compartment=\"c\")"
   ]
  },
  {
   "cell_type": "code",
   "execution_count": 117,
   "id": "4a6c5799",
   "metadata": {},
   "outputs": [],
   "source": [
    "FH.add_metabolites({fumarate:-1,H2O:-1,S_malate:1})"
   ]
  },
  {
   "cell_type": "code",
   "execution_count": 118,
   "id": "7546eb07",
   "metadata": {},
   "outputs": [],
   "source": [
    "\n",
    "MAD=Reaction(\"MAD\")\n",
    "MAD.name=\"Malate_dehydrogenase\"\n",
    "MAD.lower_bound=-1000\n",
    "MAD.upper_bound=1000"
   ]
  },
  {
   "cell_type": "code",
   "execution_count": 119,
   "id": "4ca51fb3",
   "metadata": {},
   "outputs": [],
   "source": [
    "MAD.add_metabolites({S_malate:-1,NAD:-1,H:1,NADH:1,oxaloacetate:1})"
   ]
  },
  {
   "cell_type": "code",
   "execution_count": 120,
   "id": "6742d2ee",
   "metadata": {},
   "outputs": [],
   "source": [
    "#model.add_reactions({MAD,FH,SUD,SCL,OS,ISD,AH,ACS})"
   ]
  },
  {
   "cell_type": "code",
   "execution_count": 121,
   "id": "e73b1477",
   "metadata": {},
   "outputs": [],
   "source": [
    "#model.objective=\"MAD\"\n",
    "#model.optimize()"
   ]
  },
  {
   "cell_type": "code",
   "execution_count": 122,
   "id": "24f523a5",
   "metadata": {},
   "outputs": [],
   "source": [
    "\n",
    "UBR=Reaction(\"UBR\")\n",
    "UBR.name=\"ubiquinone_reductase\"\n",
    "UBR.lower_bound=0\n",
    "UBR.upper_bound=1000"
   ]
  },
  {
   "cell_type": "code",
   "execution_count": 123,
   "id": "b951d5a2",
   "metadata": {},
   "outputs": [],
   "source": [
    "ubiquinone=Metabolite(\"ubiquinone\",compartment=\"c\")\n",
    "ubiquinol=Metabolite(\"ubiquinol\",compartment=\"c\")"
   ]
  },
  {
   "cell_type": "code",
   "execution_count": 124,
   "id": "fda9c4c7",
   "metadata": {},
   "outputs": [],
   "source": [
    "UBR.add_metabolites({ubiquinone:-1,H:-5,NADH:-1,NAD:1,ubiquinol:1,H:4})"
   ]
  },
  {
   "cell_type": "code",
   "execution_count": 125,
   "id": "cd11640a",
   "metadata": {},
   "outputs": [],
   "source": [
    "\n",
    "SUD=Reaction(\"SUD\")\n",
    "SUD.name=\"Succinate_dehydrogenase\"\n",
    "SUD.lower_bound=0\n",
    "SUD.upper_bound=1000"
   ]
  },
  {
   "cell_type": "code",
   "execution_count": 126,
   "id": "28e60f0d",
   "metadata": {},
   "outputs": [],
   "source": [
    "SUD.add_metabolites({succinate:-1,ubiquinone:-1,fumarate:1,ubiquinol:1})"
   ]
  },
  {
   "cell_type": "code",
   "execution_count": 127,
   "id": "a3ac131a",
   "metadata": {},
   "outputs": [],
   "source": [
    "\n",
    "QCR=Reaction(\"QCR\")\n",
    "QCR.name=\"Quinol_cytochrome-c_reductase\"\n",
    "QCR.lower_bound=0\n",
    "QCR.upper_bound=1000"
   ]
  },
  {
   "cell_type": "code",
   "execution_count": 128,
   "id": "0228f698",
   "metadata": {},
   "outputs": [],
   "source": [
    "ferricytochrome_c2=Metabolite(\"Fe(III)-[cytochrome_c]\",compartment=\"c\")\n",
    "ferrocytochrome_c=Metabolite(\"Fe(II)-[cytochrome_c]\",compartment=\"c\")"
   ]
  },
  {
   "cell_type": "code",
   "execution_count": 129,
   "id": "79a7a6a0",
   "metadata": {},
   "outputs": [],
   "source": [
    "QCR.add_metabolites({ubiquinol:-1,ferricytochrome_c2:-2,ubiquinone:1,ferrocytochrome_c:2 ,H:1})"
   ]
  },
  {
   "cell_type": "code",
   "execution_count": 130,
   "id": "7b78897d",
   "metadata": {},
   "outputs": [],
   "source": [
    "\n",
    "CYO=Reaction(\"CYO\")\n",
    "CYO.name=\"Cytochrome_coxidase\"\n",
    "CYO.lower_bound=0\n",
    "CYO.upper_bound=1000"
   ]
  },
  {
   "cell_type": "code",
   "execution_count": 131,
   "id": "7568955f",
   "metadata": {},
   "outputs": [],
   "source": [
    "O2=Metabolite(\"PROTON\",compartment=\"c\")"
   ]
  },
  {
   "cell_type": "code",
   "execution_count": 132,
   "id": "b7abd670",
   "metadata": {},
   "outputs": [],
   "source": [
    "CYO.add_metabolites({ferrocytochrome_c:-4,H:-8,O2:-1,ferricytochrome_c2:4,H:4,H2O:2})"
   ]
  },
  {
   "cell_type": "code",
   "execution_count": 133,
   "id": "b297c881",
   "metadata": {},
   "outputs": [],
   "source": [
    "\n",
    "TSA=Reaction(\"TSA\")\n",
    "TSA.name=\"H(+)-transporting_two-sector_ATPase\"\n",
    "TSA.lower_bound=-1000\n",
    "TSA.upper_bound=1000"
   ]
  },
  {
   "cell_type": "code",
   "execution_count": 134,
   "id": "087a4c42",
   "metadata": {},
   "outputs": [],
   "source": [
    "TSA.add_metabolites({ATP:-1,H:-4,H2O:-1,ADP:1,H:5,Pi:1})"
   ]
  },
  {
   "cell_type": "code",
   "execution_count": 135,
   "id": "5bd19af4",
   "metadata": {},
   "outputs": [],
   "source": [
    "\n",
    "IND=Reaction(\"IND\")\n",
    "IND.name=\"Inorganic_diphosphatase\"\n",
    "IND.lower_bound=0\n",
    "IND.upper_bound=1000"
   ]
  },
  {
   "cell_type": "code",
   "execution_count": 136,
   "id": "aa2a689d",
   "metadata": {},
   "outputs": [],
   "source": [
    "Diphosphate=Metabolite(\"Diphosphate\",compartment=\"c\")"
   ]
  },
  {
   "cell_type": "code",
   "execution_count": 137,
   "id": "036032a7",
   "metadata": {},
   "outputs": [],
   "source": [
    "IND.add_metabolites({ATP:-1,H:-4,H2O:-1,ADP:1,H:5,Pi:1})"
   ]
  },
  {
   "cell_type": "code",
   "execution_count": 138,
   "id": "9e238180",
   "metadata": {},
   "outputs": [],
   "source": [
    "\n",
    "APP=Reaction(\"APP\")\n",
    "APP.name=\"ATP-polyphosphate_phosphotransferase\"\n",
    "APP.lower_bound=-1000\n",
    "APP.upper_bound=1000"
   ]
  },
  {
   "cell_type": "code",
   "execution_count": 139,
   "id": "a6d1202d",
   "metadata": {},
   "outputs": [],
   "source": [
    "APP.add_metabolites({ATP:-1,Diphosphate:-1,ADP:1,Pi:1})"
   ]
  },
  {
   "cell_type": "code",
   "execution_count": 140,
   "id": "73b4ac7b",
   "metadata": {},
   "outputs": [],
   "source": [
    "#model.add_reactions({UBR,SUD,QCR,CYO,TSA,IND,APP})\n",
    "#model.objective=\"TSA\"\n",
    "#model.optimize()"
   ]
  },
  {
   "cell_type": "code",
   "execution_count": 141,
   "id": "d46ed835",
   "metadata": {},
   "outputs": [],
   "source": [
    "\n",
    "PTAr=Reaction(\"PTAr\")\n",
    "PTAr.name=\"Phosphotransacetylase\"\n",
    "PTAr.lower_bound=-1000\n",
    "PTAr.upper_bound=1000"
   ]
  },
  {
   "cell_type": "code",
   "execution_count": 142,
   "id": "07d615fb",
   "metadata": {},
   "outputs": [],
   "source": [
    "actp_c=Metabolite(\"Acetyl_phosphate\",compartment=\"c\")"
   ]
  },
  {
   "cell_type": "code",
   "execution_count": 143,
   "id": "fbef0ba6",
   "metadata": {},
   "outputs": [],
   "source": [
    "PTAr.add_metabolites({acetyl_CoA:-1,Pi:-1,CoA:1,actp_c:1})"
   ]
  },
  {
   "cell_type": "code",
   "execution_count": 144,
   "id": "53b2d5f4",
   "metadata": {},
   "outputs": [],
   "source": [
    "\n",
    "ACKr=Reaction(\"ACKr\")\n",
    "ACKr.name=\"Acetate_kinase\"\n",
    "ACKr.lower_bound=-1000\n",
    "ACKr.upper_bound=1000"
   ]
  },
  {
   "cell_type": "code",
   "execution_count": 145,
   "id": "a0325fb3",
   "metadata": {},
   "outputs": [],
   "source": [
    "acetate=Metabolite(\"acetate\",compartment=\"c\")"
   ]
  },
  {
   "cell_type": "code",
   "execution_count": 146,
   "id": "3f7a4331",
   "metadata": {},
   "outputs": [],
   "source": [
    "ACKr.add_metabolites({ATP:-1,ADP:1,actp_c:1,acetate:-1})"
   ]
  },
  {
   "cell_type": "code",
   "execution_count": 147,
   "id": "c1e0b6a2",
   "metadata": {},
   "outputs": [],
   "source": [
    "Acetate_exchange=Reaction('Acetate_exchange')\n",
    "Acetate_exchange.name='Acetate exchange'\n",
    "Acetate_exchange.lower_bound=0\n",
    "Acetate_exchange.upper_bound=1000"
   ]
  },
  {
   "cell_type": "code",
   "execution_count": 148,
   "id": "0d4bef6e",
   "metadata": {},
   "outputs": [],
   "source": [
    "Acetate_exchange.add_metabolites({acetate:-1})"
   ]
  },
  {
   "cell_type": "code",
   "execution_count": 149,
   "id": "e3590e53",
   "metadata": {},
   "outputs": [],
   "source": [
    "α_Ketoglutarate_exchange=Reaction('α_Ketoglutarate_exchange')\n",
    "α_Ketoglutarate_exchange.name='α_Ketoglutarate_exchange'\n",
    "α_Ketoglutarate_exchange.lower_bound=0\n",
    "α_Ketoglutarate_exchange.upper_bound=1000"
   ]
  },
  {
   "cell_type": "code",
   "execution_count": 150,
   "id": "59d7a980",
   "metadata": {},
   "outputs": [],
   "source": [
    "α_Ketoglutarate_exchange.add_metabolites({oxoglutarate2:-1})"
   ]
  },
  {
   "cell_type": "code",
   "execution_count": 151,
   "id": "48668681",
   "metadata": {},
   "outputs": [],
   "source": [
    "Fumarate_exchange=Reaction('Fumarate_exchange')\n",
    "Fumarate_exchange.name='Fumarate_exchange'\n",
    "Fumarate_exchange.lower_bound=0\n",
    "Fumarate_exchange.upper_bound=1000"
   ]
  },
  {
   "cell_type": "code",
   "execution_count": 152,
   "id": "d659cb05",
   "metadata": {},
   "outputs": [],
   "source": [
    "Fumarate_exchange.add_metabolites({fumarate:-1})"
   ]
  },
  {
   "cell_type": "code",
   "execution_count": 153,
   "id": "b1007bce",
   "metadata": {},
   "outputs": [],
   "source": [
    "Glucose_exchange=Reaction('Glucose_exchange')\n",
    "Glucose_exchange.name='Glucose_exchange'\n",
    "Glucose_exchange.lower_bound=-10\n",
    "Glucose_exchange.upper_bound=1000"
   ]
  },
  {
   "cell_type": "code",
   "execution_count": 154,
   "id": "e850b79c",
   "metadata": {},
   "outputs": [],
   "source": [
    "Glucose_exchange.add_metabolites({Gluc:-1})"
   ]
  },
  {
   "cell_type": "code",
   "execution_count": 155,
   "id": "0757f4bb",
   "metadata": {},
   "outputs": [],
   "source": [
    "L_Malate_exchange=Reaction('L_Malate_exchange')\n",
    "L_Malate_exchange.name='L_Malate_exchange'\n",
    "L_Malate_exchange.lower_bound=0\n",
    "L_Malate_exchange.upper_bound=1000"
   ]
  },
  {
   "cell_type": "code",
   "execution_count": 156,
   "id": "e0ce21ae",
   "metadata": {},
   "outputs": [],
   "source": [
    "L_Malate_exchange.add_metabolites({S_malate:-1})"
   ]
  },
  {
   "cell_type": "code",
   "execution_count": 157,
   "id": "50050a16",
   "metadata": {},
   "outputs": [],
   "source": [
    "O2_exchange=Reaction('O2_exchange')\n",
    "O2_exchange.name='O2_exchange'\n",
    "O2_exchange.lower_bound=-1000\n",
    "O2_exchange.upper_bound=1000"
   ]
  },
  {
   "cell_type": "code",
   "execution_count": 158,
   "id": "8406d145",
   "metadata": {},
   "outputs": [],
   "source": [
    "O2_exchange.add_metabolites({O2:-1})"
   ]
  },
  {
   "cell_type": "code",
   "execution_count": 159,
   "id": "4ca6ef93",
   "metadata": {},
   "outputs": [],
   "source": [
    "phosphate_exchange=Reaction('phosphate_exchange')\n",
    "phosphate_exchange.name='phosphate_exchange'\n",
    "phosphate_exchange.lower_bound=-1000\n",
    "phosphate_exchange.upper_bound=1000"
   ]
  },
  {
   "cell_type": "code",
   "execution_count": 160,
   "id": "b5b0c1f3",
   "metadata": {},
   "outputs": [],
   "source": [
    "phosphate_exchange.add_metabolites({Pi:-1})"
   ]
  },
  {
   "cell_type": "code",
   "execution_count": 161,
   "id": "cf32d6fb",
   "metadata": {},
   "outputs": [],
   "source": [
    "Succinate_exchange=Reaction('Succinate_exchange')\n",
    "Succinate_exchange.name='Succinate_exchange'\n",
    "Succinate_exchange.lower_bound=0\n",
    "Succinate_exchange.upper_bound=1000"
   ]
  },
  {
   "cell_type": "code",
   "execution_count": 162,
   "id": "51dac5af",
   "metadata": {},
   "outputs": [],
   "source": [
    "Succinate_exchange.add_metabolites({succinate:-1})"
   ]
  },
  {
   "cell_type": "code",
   "execution_count": 163,
   "id": "d640d6d5",
   "metadata": {},
   "outputs": [],
   "source": [
    "BIOMASS=Reaction(\"BIOMASS\")\n",
    "BIOMASS.name=\"Biomass_Objective_Function_with_GAM\"\n",
    "BIOMASS.lower_bound=0\n",
    "BIOMASS.upper_bound=1000"
   ]
  },
  {
   "cell_type": "code",
   "execution_count": 164,
   "id": "e4659376",
   "metadata": {},
   "outputs": [],
   "source": [
    "pg_c3=Metabolite(\"3_Phospho_D_glycerate\",compartment=\"c\")\n",
    "e4p_c=Metabolite(\"D_Erythrose_4_phosphate\",compartment=\"c\")\n",
    "g3p_c=Metabolite(\"Glyceraldehyde_3_phosphate\",compartment=\"c\")"
   ]
  },
  {
   "cell_type": "code",
   "execution_count": 165,
   "id": "b5afd873",
   "metadata": {},
   "outputs": [],
   "source": [
    "BIOMASS.add_metabolites({PG3:-1.496,acetyl_CoA:-3.7478,ADP:59.81,oxoglutarate2:4.1182,\n",
    "                         ATP:-59.81,CoA:3.7478,E4P:-0.361,F6P:-0.0709,GAP:-0.129,\n",
    "                         G6P:-0.205,H2O:-59.81,H:59.81,NAD:-3.547,NADH:3.547,\n",
    "                         NADP:13.0279,NADPH:-13.0279,oxaloacetate:-1.7867,PEP:-0.5191,\n",
    "                         Pi:59.81,PYR:-2.8328,R5P:-0.8977})"
   ]
  },
  {
   "cell_type": "code",
   "execution_count": 166,
   "id": "2b5e3208",
   "metadata": {},
   "outputs": [],
   "source": [
    "model.add_reactions({HK,PGI,PFK,TPI,ALD,GAPDH,PGK,PGLM,ENO,PK,AMP_E,APK\n",
    ",PYR_E,ATP_H,NADH_O,GLUin,H_E,H2O_E,G6PDH,PGLase,GL6PDH,R5PE,R5PI,TKI,TKII,TALA,GSSGR,GSHR,CO2exch,MAD,FH,SUD,SCL,OS,ISD,AH,ACS,UBR,SUD,QCR,CYO,TSA,IND,APP,PTAr,ACKr\n",
    ",Pyruvate_dehydrogenase_complex,Acetate_exchange,α_Ketoglutarate_exchange,\n",
    "Fumarate_exchange,L_Malate_exchange,O2_exchange,phosphate_exchange,\n",
    "Succinate_exchange,\n",
    "BIOMASS})"
   ]
  },
  {
   "cell_type": "code",
   "execution_count": 167,
   "id": "62d6e002",
   "metadata": {},
   "outputs": [
    {
     "data": {
      "text/plain": [
       "ATP_H                             0.000000e+00\n",
       "R5PI                              2.038629e-01\n",
       "AMP_E                             0.000000e+00\n",
       "PGK                               9.152369e-01\n",
       "GSHR                             -5.917133e+00\n",
       "TKI                               1.639623e-01\n",
       "O2_exchange                      -5.366523e+00\n",
       "MAD                               0.000000e+00\n",
       "R5PE                             -2.038629e-01\n",
       "SCL                               0.000000e+00\n",
       "QCR                               1.073305e+01\n",
       "H_E                               0.000000e+00\n",
       "PFK                               6.708263e-01\n",
       "GLUin                             1.000000e+00\n",
       "TPI                               6.708263e-01\n",
       "FH                                0.000000e+00\n",
       "Pyruvate_dehydrogenase_complex    9.018300e+00\n",
       "CYO                               5.366523e+00\n",
       "H2O_E                             3.596816e+00\n",
       "BIOMASS                           4.541893e-01\n",
       "PGLase                            0.000000e+00\n",
       "OS                                0.000000e+00\n",
       "Fumarate_exchange                 0.000000e+00\n",
       "PYR_E                            -1.030493e+01\n",
       "SUD                              -1.465494e-14\n",
       "TALA                              1.639623e-01\n",
       "phosphate_exchange               -1.670826e+00\n",
       "TSA                              -1.979306e+01\n",
       "HK                                1.000000e+00\n",
       "ACKr                             -8.127589e+00\n",
       "ENO                               2.357697e-01\n",
       "GL6PDH                            0.000000e+00\n",
       "Acetate_exchange                  8.127589e+00\n",
       "NADH_O                            0.000000e+00\n",
       "CO2exch                           8.206800e+00\n",
       "ISD                              -8.115001e-01\n",
       "G6PDH                             5.950795e-14\n",
       "TKII                             -3.678252e-01\n",
       "L_Malate_exchange                 8.876875e-16\n",
       "PGI                               9.068912e-01\n",
       "Succinate_exchange                0.000000e+00\n",
       "GSSGR                            -5.917133e+00\n",
       "ACS                              -8.115001e-01\n",
       "PGLM                              2.357697e-01\n",
       "AH                               -8.115001e-01\n",
       "IND                               0.000000e+00\n",
       "GAPDH                             9.152369e-01\n",
       "PK                                0.000000e+00\n",
       "PTAr                              8.127589e+00\n",
       "ALD                               6.708263e-01\n",
       "UBR                               1.073305e+01\n",
       "APP                               0.000000e+00\n",
       "APK                               0.000000e+00\n",
       "α_Ketoglutarate_exchange          1.058942e+00\n",
       "Name: fluxes, dtype: float64"
      ]
     },
     "execution_count": 167,
     "metadata": {},
     "output_type": "execute_result"
    }
   ],
   "source": [
    "model.objective=\"BIOMASS\"\n",
    "model.optimize().fluxes"
   ]
  },
  {
   "cell_type": "code",
   "execution_count": 168,
   "id": "5e464bf5",
   "metadata": {},
   "outputs": [
    {
     "data": {
      "text/html": [
       "<strong><em>Optimal</em> solution with objective value 0.454</strong><br><div>\n",
       "<style scoped>\n",
       "    .dataframe tbody tr th:only-of-type {\n",
       "        vertical-align: middle;\n",
       "    }\n",
       "\n",
       "    .dataframe tbody tr th {\n",
       "        vertical-align: top;\n",
       "    }\n",
       "\n",
       "    .dataframe thead th {\n",
       "        text-align: right;\n",
       "    }\n",
       "</style>\n",
       "<table border=\"1\" class=\"dataframe\">\n",
       "  <thead>\n",
       "    <tr style=\"text-align: right;\">\n",
       "      <th></th>\n",
       "      <th>fluxes</th>\n",
       "      <th>reduced_costs</th>\n",
       "    </tr>\n",
       "  </thead>\n",
       "  <tbody>\n",
       "    <tr>\n",
       "      <th>ATP_H</th>\n",
       "      <td>0.000000</td>\n",
       "      <td>3.023507e-15</td>\n",
       "    </tr>\n",
       "    <tr>\n",
       "      <th>R5PI</th>\n",
       "      <td>0.203863</td>\n",
       "      <td>1.998401e-15</td>\n",
       "    </tr>\n",
       "    <tr>\n",
       "      <th>AMP_E</th>\n",
       "      <td>0.000000</td>\n",
       "      <td>0.000000e+00</td>\n",
       "    </tr>\n",
       "    <tr>\n",
       "      <th>PGK</th>\n",
       "      <td>0.915237</td>\n",
       "      <td>9.251859e-18</td>\n",
       "    </tr>\n",
       "    <tr>\n",
       "      <th>GSHR</th>\n",
       "      <td>-5.917133</td>\n",
       "      <td>-3.885781e-16</td>\n",
       "    </tr>\n",
       "    <tr>\n",
       "      <th>...</th>\n",
       "      <td>...</td>\n",
       "      <td>...</td>\n",
       "    </tr>\n",
       "    <tr>\n",
       "      <th>ALD</th>\n",
       "      <td>0.670826</td>\n",
       "      <td>-2.775558e-17</td>\n",
       "    </tr>\n",
       "    <tr>\n",
       "      <th>UBR</th>\n",
       "      <td>10.733046</td>\n",
       "      <td>5.551115e-17</td>\n",
       "    </tr>\n",
       "    <tr>\n",
       "      <th>APP</th>\n",
       "      <td>0.000000</td>\n",
       "      <td>-1.073216e-16</td>\n",
       "    </tr>\n",
       "    <tr>\n",
       "      <th>APK</th>\n",
       "      <td>0.000000</td>\n",
       "      <td>7.401487e-17</td>\n",
       "    </tr>\n",
       "    <tr>\n",
       "      <th>α_Ketoglutarate_exchange</th>\n",
       "      <td>1.058942</td>\n",
       "      <td>-1.110223e-16</td>\n",
       "    </tr>\n",
       "  </tbody>\n",
       "</table>\n",
       "<p>54 rows × 2 columns</p>\n",
       "</div>"
      ],
      "text/plain": [
       "<Solution 0.454 at 0x23a9d5ce970>"
      ]
     },
     "execution_count": 168,
     "metadata": {},
     "output_type": "execute_result"
    }
   ],
   "source": [
    "model.optimize()"
   ]
  },
  {
   "cell_type": "code",
   "execution_count": 172,
   "id": "321ae21b",
   "metadata": {},
   "outputs": [],
   "source": [
    "cobra.io.save_json_model(model,\"e_col\")"
   ]
  },
  {
   "cell_type": "code",
   "execution_count": 191,
   "id": "9c15b38a",
   "metadata": {},
   "outputs": [],
   "source": [
    "import escher"
   ]
  },
  {
   "cell_type": "code",
   "execution_count": 192,
   "id": "f7dd2441",
   "metadata": {},
   "outputs": [],
   "source": [
    "from escher import Builder"
   ]
  },
  {
   "cell_type": "code",
   "execution_count": 193,
   "id": "a4aa4c78",
   "metadata": {},
   "outputs": [],
   "source": [
    "builder=Builder()"
   ]
  },
  {
   "cell_type": "code",
   "execution_count": 194,
   "id": "f9edc89a",
   "metadata": {},
   "outputs": [
    {
     "data": {
      "application/vnd.jupyter.widget-view+json": {
       "model_id": "6a5349a3c328491f9fb70a733d81fa9d",
       "version_major": 2,
       "version_minor": 0
      },
      "text/plain": [
       "Builder()"
      ]
     },
     "metadata": {},
     "output_type": "display_data"
    }
   ],
   "source": [
    "builder"
   ]
  },
  {
   "cell_type": "code",
   "execution_count": 195,
   "id": "5cb372eb",
   "metadata": {},
   "outputs": [],
   "source": [
    "sol=model.optimize()"
   ]
  },
  {
   "cell_type": "code",
   "execution_count": 196,
   "id": "51b1c8ba",
   "metadata": {},
   "outputs": [],
   "source": [
    "builder.reaction_data=sol.fluxes"
   ]
  },
  {
   "cell_type": "code",
   "execution_count": null,
   "id": "0fce7016",
   "metadata": {},
   "outputs": [],
   "source": []
  }
 ],
 "metadata": {
  "kernelspec": {
   "display_name": "Python 3 (ipykernel)",
   "language": "python",
   "name": "python3"
  },
  "language_info": {
   "codemirror_mode": {
    "name": "ipython",
    "version": 3
   },
   "file_extension": ".py",
   "mimetype": "text/x-python",
   "name": "python",
   "nbconvert_exporter": "python",
   "pygments_lexer": "ipython3",
   "version": "3.9.7"
  }
 },
 "nbformat": 4,
 "nbformat_minor": 5
}
